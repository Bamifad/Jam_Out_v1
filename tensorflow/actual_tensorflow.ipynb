{
 "cells": [
  {
   "cell_type": "code",
   "execution_count": 150,
   "metadata": {},
   "outputs": [],
   "source": [
    "from tensorflow import keras\n",
    "from tensorflow.keras import layers\n",
    "from tensorflow.keras import backend as K\n",
    "import tensorflow as tf\n",
    "import pandas as pd\n",
    "import numpy as np\n",
    "from sklearn.impute import SimpleImputer\n",
    "from sklearn.preprocessing import Normalizer , scale\n",
    "from sklearn.model_selection import GridSearchCV , KFold , cross_val_score\n",
    "from sklearn.metrics import mean_squared_log_error,mean_squared_error, r2_score,mean_absolute_error \n",
    "from sklearn.metrics import accuracy_score,precision_score,recall_score,f1_score\n",
    "from sklearn.neighbors import NearestNeighbors\n",
    "from sklearn.model_selection import train_test_split, KFold\n",
    "from sklearn.model_selection import StratifiedKFold\n",
    "from sklearn.model_selection import cross_val_score\n",
    "from sklearn.preprocessing import LabelEncoder\n",
    "from keras.models import Model\n",
    "\n",
    "\n",
    "from IPython.display import SVG\n",
    "from urllib.request import urlretrieve\n",
    "import zipfile\n",
    "import collections"
   ]
  },
  {
   "cell_type": "code",
   "execution_count": 151,
   "metadata": {},
   "outputs": [],
   "source": [
    "df_ratings = pd.read_csv(\"ratings.csv\", index_col=False)"
   ]
  },
  {
   "cell_type": "code",
   "execution_count": 152,
   "metadata": {},
   "outputs": [
    {
     "data": {
      "text/html": [
       "<div>\n",
       "<style scoped>\n",
       "    .dataframe tbody tr th:only-of-type {\n",
       "        vertical-align: middle;\n",
       "    }\n",
       "\n",
       "    .dataframe tbody tr th {\n",
       "        vertical-align: top;\n",
       "    }\n",
       "\n",
       "    .dataframe thead th {\n",
       "        text-align: right;\n",
       "    }\n",
       "</style>\n",
       "<table border=\"1\" class=\"dataframe\">\n",
       "  <thead>\n",
       "    <tr style=\"text-align: right;\">\n",
       "      <th></th>\n",
       "      <th>Unnamed: 0</th>\n",
       "      <th>userID</th>\n",
       "      <th>genreID</th>\n",
       "      <th>ratings</th>\n",
       "    </tr>\n",
       "  </thead>\n",
       "  <tbody>\n",
       "    <tr>\n",
       "      <th>0</th>\n",
       "      <td>0</td>\n",
       "      <td>0</td>\n",
       "      <td>0</td>\n",
       "      <td>0.0</td>\n",
       "    </tr>\n",
       "    <tr>\n",
       "      <th>1</th>\n",
       "      <td>1</td>\n",
       "      <td>0</td>\n",
       "      <td>1</td>\n",
       "      <td>0.0</td>\n",
       "    </tr>\n",
       "    <tr>\n",
       "      <th>2</th>\n",
       "      <td>2</td>\n",
       "      <td>0</td>\n",
       "      <td>2</td>\n",
       "      <td>0.0</td>\n",
       "    </tr>\n",
       "    <tr>\n",
       "      <th>3</th>\n",
       "      <td>3</td>\n",
       "      <td>0</td>\n",
       "      <td>3</td>\n",
       "      <td>0.0</td>\n",
       "    </tr>\n",
       "    <tr>\n",
       "      <th>4</th>\n",
       "      <td>4</td>\n",
       "      <td>0</td>\n",
       "      <td>4</td>\n",
       "      <td>0.0</td>\n",
       "    </tr>\n",
       "    <tr>\n",
       "      <th>...</th>\n",
       "      <td>...</td>\n",
       "      <td>...</td>\n",
       "      <td>...</td>\n",
       "      <td>...</td>\n",
       "    </tr>\n",
       "    <tr>\n",
       "      <th>345</th>\n",
       "      <td>345</td>\n",
       "      <td>49</td>\n",
       "      <td>2</td>\n",
       "      <td>0.0</td>\n",
       "    </tr>\n",
       "    <tr>\n",
       "      <th>346</th>\n",
       "      <td>346</td>\n",
       "      <td>49</td>\n",
       "      <td>3</td>\n",
       "      <td>0.0</td>\n",
       "    </tr>\n",
       "    <tr>\n",
       "      <th>347</th>\n",
       "      <td>347</td>\n",
       "      <td>49</td>\n",
       "      <td>4</td>\n",
       "      <td>1.0</td>\n",
       "    </tr>\n",
       "    <tr>\n",
       "      <th>348</th>\n",
       "      <td>348</td>\n",
       "      <td>49</td>\n",
       "      <td>5</td>\n",
       "      <td>1.0</td>\n",
       "    </tr>\n",
       "    <tr>\n",
       "      <th>349</th>\n",
       "      <td>349</td>\n",
       "      <td>49</td>\n",
       "      <td>6</td>\n",
       "      <td>2.0</td>\n",
       "    </tr>\n",
       "  </tbody>\n",
       "</table>\n",
       "<p>350 rows × 4 columns</p>\n",
       "</div>"
      ],
      "text/plain": [
       "     Unnamed: 0  userID  genreID  ratings\n",
       "0             0       0        0      0.0\n",
       "1             1       0        1      0.0\n",
       "2             2       0        2      0.0\n",
       "3             3       0        3      0.0\n",
       "4             4       0        4      0.0\n",
       "..          ...     ...      ...      ...\n",
       "345         345      49        2      0.0\n",
       "346         346      49        3      0.0\n",
       "347         347      49        4      1.0\n",
       "348         348      49        5      1.0\n",
       "349         349      49        6      2.0\n",
       "\n",
       "[350 rows x 4 columns]"
      ]
     },
     "execution_count": 152,
     "metadata": {},
     "output_type": "execute_result"
    }
   ],
   "source": [
    "df_ratings"
   ]
  },
  {
   "cell_type": "code",
   "execution_count": 153,
   "metadata": {},
   "outputs": [],
   "source": [
    "min_rating = min(df_ratings[\"ratings\"])\n",
    "max_rating = max(df_ratings[\"ratings\"])\n",
    "\n",
    "train, test = train_test_split(df_ratings, test_size=0.1)\n",
    "\n",
    "ROW_COUNT = train.shape[0]\n",
    "\n",
    "EMBEDDING_SIZE = 10\n",
    "NUM_USERS = df_ratings['userID'].nunique()\n",
    "NUM_GENRES = df_ratings['genreID'].nunique()\n",
    "\n",
    "UNIQUE_GENRE_IDS = df_ratings['genreID'].unique()"
   ]
  },
  {
   "cell_type": "code",
   "execution_count": 154,
   "metadata": {
    "scrolled": true
   },
   "outputs": [
    {
     "name": "stderr",
     "output_type": "stream",
     "text": [
      "C:\\Data\\Programming\\Anaconda\\lib\\site-packages\\keras\\optimizer_v2\\optimizer_v2.py:355: UserWarning: The `lr` argument is deprecated, use `learning_rate` instead.\n",
      "  warnings.warn(\n"
     ]
    },
    {
     "name": "stdout",
     "output_type": "stream",
     "text": [
      "Epoch 1/10\n",
      "7/7 [==============================] - 1s 34ms/step - loss: 0.6681 - val_loss: 0.6571\n",
      "Epoch 2/10\n",
      "7/7 [==============================] - 0s 4ms/step - loss: 0.6653 - val_loss: 0.6571\n",
      "Epoch 3/10\n",
      "7/7 [==============================] - 0s 3ms/step - loss: 0.6635 - val_loss: 0.6571\n",
      "Epoch 4/10\n",
      "7/7 [==============================] - 0s 4ms/step - loss: 0.6614 - val_loss: 0.6571\n",
      "Epoch 5/10\n",
      "7/7 [==============================] - 0s 4ms/step - loss: 0.6605 - val_loss: 0.6571\n",
      "Epoch 6/10\n",
      "7/7 [==============================] - 0s 4ms/step - loss: 0.6617 - val_loss: 0.6567\n",
      "Epoch 7/10\n",
      "7/7 [==============================] - 0s 4ms/step - loss: 0.6584 - val_loss: 0.6805\n",
      "Epoch 8/10\n",
      "7/7 [==============================] - 0s 4ms/step - loss: 0.6405 - val_loss: 0.6967\n",
      "Epoch 9/10\n",
      "7/7 [==============================] - 0s 4ms/step - loss: 0.6057 - val_loss: 0.7523\n",
      "Epoch 10/10\n",
      "7/7 [==============================] - 0s 4ms/step - loss: 0.5435 - val_loss: 0.7861\n"
     ]
    }
   ],
   "source": [
    "def EmbeddingRec(EMBEDDING_SIZE, NUM_GENRES, NUM_USERS, ROW_COUNT):\n",
    "    genre_input = keras.Input(shape=(1,), name='genreID')\n",
    "\n",
    "    genre_emb = layers.Embedding(output_dim=EMBEDDING_SIZE, input_dim=NUM_GENRES, input_length=ROW_COUNT, name='genre_emb')(genre_input)\n",
    "    genre_vec = layers.Flatten(name='FlattenGenre')(genre_emb)\n",
    "\n",
    "    genre_model = keras.Model(inputs=genre_input, outputs=genre_vec)\n",
    "    \n",
    "    user_input = keras.Input(shape=(1,), name='userID')\n",
    "\n",
    "    user_emb = layers.Embedding(output_dim=EMBEDDING_SIZE, input_dim=NUM_USERS, input_length=ROW_COUNT, name='user_emb')(user_input)\n",
    "    user_vec = layers.Flatten(name='FlattenUser')(user_emb)\n",
    "\n",
    "    user_model = keras.Model(inputs=user_input, outputs=user_vec)\n",
    "    \n",
    "    merged = layers.Dot(name = 'dot_product', normalize = True, axes = 2)([genre_emb, user_emb])\n",
    "    merged_dropout = layers.Dropout(0.2)(merged)\n",
    "    \n",
    "    \n",
    "    dense_1 = layers.Dense(70,name='FullyConnected-1')(merged)\n",
    "    dropout_1 = layers.Dropout(0.2,name='Dropout_1')(dense_1)\n",
    "\n",
    "    dense_2 = layers.Dense(50,name='FullyConnected-2')(dropout_1)\n",
    "    dropout_2 = layers.Dropout(0.2,name='Dropout_2')(dense_2)\n",
    "\n",
    "    dense_3 = keras.layers.Dense(20,name='FullyConnected-3')(dropout_2)\n",
    "    dropout_3 = keras.layers.Dropout(0.2,name='Dropout_3')(dense_3)\n",
    "\n",
    "    dense_4 = keras.layers.Dense(10,name='FullyConnected-4', activation='relu')(dropout_3)\n",
    "\n",
    "    result = layers.Dense(1, name='result', activation=\"relu\") (dense_4)\n",
    "\n",
    "    adam = keras.optimizers.Adam(lr=0.001)\n",
    "    model = keras.Model([genre_input, user_input], result)\n",
    "    model.compile(optimizer=adam,loss= 'mean_absolute_error')\n",
    "    return model, genre_model, user_model\n",
    "\n",
    "\n",
    "model, genre_model, user_model = EmbeddingRec(EMBEDDING_SIZE, NUM_GENRES, NUM_USERS, ROW_COUNT)\n",
    "\n",
    "\n",
    "\n",
    "callbacks = [keras.callbacks.EarlyStopping('val_loss', patience=10),\n",
    "             keras.callbacks.ModelCheckpoint('besttest.h5', save_best_only=True)]\n",
    "\n",
    "history = model.fit([train.genreID, train.userID],train.ratings, batch_size=50,\n",
    "                              epochs = 10, validation_data = ([test.genreID, test.userID],test.ratings),\n",
    "                              verbose = 1, \n",
    "                              callbacks = callbacks)\n",
    "\n",
    "\n",
    "\n"
   ]
  },
  {
   "cell_type": "code",
   "execution_count": 155,
   "metadata": {},
   "outputs": [
    {
     "name": "stdout",
     "output_type": "stream",
     "text": [
      "Model: \"model_35\"\n",
      "__________________________________________________________________________________________________\n",
      "Layer (type)                    Output Shape         Param #     Connected to                     \n",
      "==================================================================================================\n",
      "genreID (InputLayer)            [(None, 1)]          0                                            \n",
      "__________________________________________________________________________________________________\n",
      "userID (InputLayer)             [(None, 1)]          0                                            \n",
      "__________________________________________________________________________________________________\n",
      "genre_emb (Embedding)           (None, 1, 10)        70          genreID[0][0]                    \n",
      "__________________________________________________________________________________________________\n",
      "user_emb (Embedding)            (None, 1, 10)        500         userID[0][0]                     \n",
      "__________________________________________________________________________________________________\n",
      "dot_product (Dot)               (None, 1, 1)         0           genre_emb[0][0]                  \n",
      "                                                                 user_emb[0][0]                   \n",
      "__________________________________________________________________________________________________\n",
      "FullyConnected-1 (Dense)        (None, 1, 70)        140         dot_product[0][0]                \n",
      "__________________________________________________________________________________________________\n",
      "Dropout_1 (Dropout)             (None, 1, 70)        0           FullyConnected-1[0][0]           \n",
      "__________________________________________________________________________________________________\n",
      "FullyConnected-2 (Dense)        (None, 1, 50)        3550        Dropout_1[0][0]                  \n",
      "__________________________________________________________________________________________________\n",
      "Dropout_2 (Dropout)             (None, 1, 50)        0           FullyConnected-2[0][0]           \n",
      "__________________________________________________________________________________________________\n",
      "FullyConnected-3 (Dense)        (None, 1, 20)        1020        Dropout_2[0][0]                  \n",
      "__________________________________________________________________________________________________\n",
      "Dropout_3 (Dropout)             (None, 1, 20)        0           FullyConnected-3[0][0]           \n",
      "__________________________________________________________________________________________________\n",
      "FullyConnected-4 (Dense)        (None, 1, 10)        210         Dropout_3[0][0]                  \n",
      "__________________________________________________________________________________________________\n",
      "result (Dense)                  (None, 1, 1)         11          FullyConnected-4[0][0]           \n",
      "==================================================================================================\n",
      "Total params: 5,501\n",
      "Trainable params: 5,501\n",
      "Non-trainable params: 0\n",
      "__________________________________________________________________________________________________\n"
     ]
    }
   ],
   "source": [
    "model.summary()"
   ]
  },
  {
   "cell_type": "code",
   "execution_count": 156,
   "metadata": {},
   "outputs": [
    {
     "data": {
      "image/png": "[encoded data removed]",
      "text/plain": [
       "<Figure size 720x360 with 1 Axes>"
      ]
     },
     "metadata": {
      "needs_background": "light"
     },
     "output_type": "display_data"
    },
    {
     "data": {
      "image/png": "[encoded data removed]",
      "text/plain": [
       "<Figure size 1152x1152 with 1 Axes>"
      ]
     },
     "metadata": {
      "needs_background": "light"
     },
     "output_type": "display_data"
    }
   ],
   "source": [
    "\n",
    "\n",
    "from pylab import rcParams\n",
    "rcParams['figure.figsize'] = 10, 5\n",
    "import matplotlib.pyplot as plt\n",
    "plt.plot(history.history['loss'] , 'g')\n",
    "plt.title('model loss')\n",
    "plt.ylabel('loss')\n",
    "plt.xlabel('epochs')\n",
    "plt.legend(['train'], loc='upper right')\n",
    "plt.grid(True)\n",
    "plt.show()\n",
    "\n",
    "\n",
    "# TEST_GENRE_ID = 5\n",
    "\n",
    "GENRE_EMBEDDING_LIST = []\n",
    "GENRE_EMBED_MAP = collections.defaultdict()\n",
    "\n",
    "for _id in UNIQUE_GENRE_IDS:\n",
    "    emb = genre_model.predict(np.array([_id]))\n",
    "    val = list(emb.reshape(1,-1))[0]\n",
    "    GENRE_EMBEDDING_LIST.insert(_id, val)\n",
    "    GENRE_EMBED_MAP[_id] = val\n",
    "\n",
    "from sklearn.manifold import TSNE\n",
    "import matplotlib.pyplot as plt\n",
    "\n",
    "\n",
    "\n",
    "\n",
    "def tsne_plot(model, GENRE_EMBEDDING_LIST, size = NUM_GENRES):\n",
    "    tsne_model = TSNE(perplexity=40, n_components=2, init='pca', n_iter=2500, random_state=23)\n",
    "    new_values = tsne_model.fit_transform(GENRE_EMBEDDING_LIST[:size])\n",
    "    x = []\n",
    "    y = []\n",
    "    for value in new_values:\n",
    "        x.append(value[0])\n",
    "        y.append(value[1])\n",
    "    labels = list(range(0,size))\n",
    "    plt.figure(figsize=(16, 16)) \n",
    "    for i in range(len(x)):\n",
    "        plt.scatter(x[i],y[i])\n",
    "        plt.annotate(labels[i],xy=(x[i], y[i]),xytext=(5, 2),textcoords='offset points',ha='right',va='bottom')\n",
    "    plt.show()\n",
    "\n",
    "\n",
    "tsne_plot(model, GENRE_EMBEDDING_LIST)\n",
    "\n",
    "\n",
    "\n",
    "\n",
    "\n",
    "\n"
   ]
  },
  {
   "cell_type": "code",
   "execution_count": 189,
   "metadata": {},
   "outputs": [],
   "source": [
    "df_genres = pd.read_csv(\"genres.csv\")"
   ]
  },
  {
   "cell_type": "code",
   "execution_count": 173,
   "metadata": {},
   "outputs": [
    {
     "data": {
      "text/plain": [
       "0    0\n",
       "1    1\n",
       "2    5\n",
       "3    6\n",
       "4    4\n",
       "Name: genreID, dtype: int64"
      ]
     },
     "execution_count": 173,
     "metadata": {},
     "output_type": "execute_result"
    }
   ],
   "source": [
    "knn_train_label = UNIQUE_GENRE_IDS\n",
    "\n",
    "\n",
    "from sklearn.neighbors import KNeighborsClassifier\n",
    "clf = KNeighborsClassifier(n_neighbors=5)\n",
    "clf.fit(GENRE_EMBEDDING_LIST, knn_train_label)\n",
    "\n",
    "\n",
    "def recommend_genres(embedding):\n",
    "    distances, indices = clf.kneighbors(embedding.reshape(1, -1),  n_neighbors=5)\n",
    "    indices = indices.reshape(5,1)\n",
    "    df_indices = pd.DataFrame(indices, columns = ['genreID'])\n",
    "    return df_indices.merge(df_genres,on='genreID',how='inner',suffixes=['_u', '_m'])['genreID']\n",
    "\n",
    "TEST_USER_ID = 0\n",
    "\n",
    "user_embedding = user_model.predict([TEST_USER_ID]).reshape(1,-1)[0]\n",
    "\n",
    "recommend_genres(user_embedding)"
   ]
  },
  {
   "cell_type": "code",
   "execution_count": 159,
   "metadata": {},
   "outputs": [
    {
     "data": {
      "text/plain": [
       "2.44"
      ]
     },
     "execution_count": 159,
     "metadata": {},
     "output_type": "execute_result"
    }
   ],
   "source": [
    "np.average(df_ratings.loc[df_ratings['genreID'] == 5, 'ratings'], axis=0)\n"
   ]
  },
  {
   "cell_type": "code",
   "execution_count": 160,
   "metadata": {},
   "outputs": [
    {
     "data": {
      "text/plain": [
       "1.54"
      ]
     },
     "execution_count": 160,
     "metadata": {},
     "output_type": "execute_result"
    }
   ],
   "source": [
    "np.average(df_ratings.loc[df_ratings['genreID'] == 6, 'ratings'], axis=0)\n"
   ]
  },
  {
   "cell_type": "code",
   "execution_count": 161,
   "metadata": {},
   "outputs": [
    {
     "data": {
      "text/plain": [
       "0.5"
      ]
     },
     "execution_count": 161,
     "metadata": {},
     "output_type": "execute_result"
    }
   ],
   "source": [
    "np.average(df_ratings.loc[df_ratings['genreID'] == 4, 'ratings'], axis=0)\n"
   ]
  },
  {
   "cell_type": "code",
   "execution_count": 190,
   "metadata": {},
   "outputs": [],
   "source": [
    "df_users = pd.read_csv(\"users.csv\")\n",
    "df_users = df_users[\"Names\"]"
   ]
  },
  {
   "cell_type": "code",
   "execution_count": 191,
   "metadata": {},
   "outputs": [],
   "source": [
    "df_genres_series = df_genres[\"genre\"]"
   ]
  },
  {
   "cell_type": "code",
   "execution_count": 201,
   "metadata": {},
   "outputs": [],
   "source": [
    "df_predict_matches = pd.DataFrame(columns=[\"userID\", \"user\", \"genre_match\"])\n",
    "userID_list = []\n",
    "user_list = []\n",
    "genre_match_list = []\n",
    "for userID, user in enumerate(df_users):\n",
    "    userID_list.append(userID)\n",
    "    user_list.append(user)\n",
    "    TEST_USER_ID = userID\n",
    "\n",
    "    user_embedding = user_model.predict([TEST_USER_ID]).reshape(1,-1)[0]\n",
    "\n",
    "    recommended_series = recommend_genres(user_embedding)\n",
    "    genre_match = df_genres_series[recommended_series[0]]\n",
    "    genre_match_list.append(genre_match)"
   ]
  },
  {
   "cell_type": "code",
   "execution_count": 204,
   "metadata": {},
   "outputs": [],
   "source": [
    "df_predict_matches[\"userID\"] = userID_list\n",
    "df_predict_matches[\"user\"] = user_list\n",
    "df_predict_matches[\"genre_match\"] = genre_match_list"
   ]
  },
  {
   "cell_type": "code",
   "execution_count": 205,
   "metadata": {},
   "outputs": [],
   "source": [
    "df_predict_matches.to_csv(\"ahfdlkasjhdfljahsdlfjhasljfh.csv\")"
   ]
  },
  {
   "cell_type": "code",
   "execution_count": null,
   "metadata": {},
   "outputs": [],
   "source": []
  },
  {
   "cell_type": "code",
   "execution_count": null,
   "metadata": {},
   "outputs": [],
   "source": []
  }
 ],
 "metadata": {
  "kernelspec": {
   "display_name": "Python 3",
   "language": "python",
   "name": "python3"
  },
  "language_info": {
   "codemirror_mode": {
    "name": "ipython",
    "version": 3
   },
   "file_extension": ".py",
   "mimetype": "text/x-python",
   "name": "python",
   "nbconvert_exporter": "python",
   "pygments_lexer": "ipython3",
   "version": "3.8.3"
  }
 },
 "nbformat": 4,
 "nbformat_minor": 4
}
